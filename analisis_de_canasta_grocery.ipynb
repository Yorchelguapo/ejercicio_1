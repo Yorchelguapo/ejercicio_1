{
  "nbformat": 4,
  "nbformat_minor": 0,
  "metadata": {
    "kernelspec": {
      "display_name": "Python 3",
      "language": "python",
      "name": "python3"
    },
    "colab": {
      "name": "Curso NLP 4 Asociación Comprados Juntos.ipynb",
      "provenance": [],
      "toc_visible": true,
      "include_colab_link": true
    }
  },
  "cells": [
    {
      "cell_type": "markdown",
      "metadata": {
        "id": "view-in-github",
        "colab_type": "text"
      },
      "source": [
        "<a href=\"https://colab.research.google.com/github/Yorchelguapo/ejercicio_1/blob/main/analisis_de_canasta_grocery.ipynb\" target=\"_parent\"><img src=\"https://colab.research.google.com/assets/colab-badge.svg\" alt=\"Open In Colab\"/></a>"
      ]
    },
    {
      "cell_type": "markdown",
      "metadata": {
        "id": "cEkl_1cjG0jU"
      },
      "source": [
        "\n",
        "<img src=\"https://i1.wp.com/www.sopitas.com/wp-content/uploads/2014/08/Tec-de-Monterrey-Logo-640x581.jpg\" width=\"70\"/>\n",
        "<!--<img src=\"http://www.consocpec.com.mx/assets/images/logo-ciestaam-411x411.jpg\" width=\"88\"/> -->\n",
        "<h5>ITESM Campus Santa Fe <br> Armando Valdés </h5>\n"
      ]
    },
    {
      "cell_type": "markdown",
      "metadata": {
        "id": "wYSt5yHRVad4"
      },
      "source": [
        "### Nomenclatura\n",
        "🟠 Modificar <br>\n",
        "⏮ Repetir en caso de cambiar texto<br>\n",
        "🔘 Opcional"
      ]
    },
    {
      "cell_type": "markdown",
      "metadata": {
        "id": "8sLOdo9iNF9P"
      },
      "source": [
        "### 1.-Instalar bibliotecas"
      ]
    },
    {
      "cell_type": "code",
      "metadata": {
        "id": "WIYX9Z1iEM8f",
        "colab": {
          "base_uri": "https://localhost:8080/"
        },
        "outputId": "343620a8-2011-49d5-d4a5-ff7bd4e833f8"
      },
      "source": [
        "!pip install apyori"
      ],
      "execution_count": 1,
      "outputs": [
        {
          "output_type": "stream",
          "name": "stdout",
          "text": [
            "Collecting apyori\n",
            "  Downloading apyori-1.1.2.tar.gz (8.6 kB)\n",
            "  Preparing metadata (setup.py) ... \u001b[?25l\u001b[?25hdone\n",
            "Building wheels for collected packages: apyori\n",
            "  Building wheel for apyori (setup.py) ... \u001b[?25l\u001b[?25hdone\n",
            "  Created wheel for apyori: filename=apyori-1.1.2-py3-none-any.whl size=5954 sha256=d1fa25d2a06ca56437a91f30dd8c94830a42248066552a0d293ec75e03259778\n",
            "  Stored in directory: /root/.cache/pip/wheels/77/3d/a6/d317a6fb32be58a602b1e8c6b5d6f31f79322da554cad2a5ea\n",
            "Successfully built apyori\n",
            "Installing collected packages: apyori\n",
            "Successfully installed apyori-1.1.2\n"
          ]
        }
      ]
    },
    {
      "cell_type": "code",
      "metadata": {
        "id": "veerhbbgEAI_"
      },
      "source": [
        "import numpy as np\n",
        "import matplotlib.pyplot as plt\n",
        "import pandas as pd\n",
        "from apyori import apriori"
      ],
      "execution_count": 2,
      "outputs": []
    },
    {
      "cell_type": "markdown",
      "metadata": {
        "id": "qj1yRQt2EAJZ"
      },
      "source": [
        "### 2.-Importar datos (base depurada) 🟠"
      ]
    },
    {
      "cell_type": "code",
      "metadata": {
        "id": "6pcXvvPkQDsl"
      },
      "source": [
        "#para importar desde url\n",
        "url='https://raw.githubusercontent.com/armandovl/analisis_canasta/master/bases_de_datos/grocery_20.csv'"
      ],
      "execution_count": null,
      "outputs": []
    },
    {
      "cell_type": "code",
      "metadata": {
        "id": "F5ZsajbHEAJd"
      },
      "source": [
        "df_data = pd.read_csv(url, header = None)"
      ],
      "execution_count": null,
      "outputs": []
    },
    {
      "cell_type": "code",
      "metadata": {
        "id": "IKqJmwbfEAJt"
      },
      "source": [
        "df_data.head(5) #es bueno práctica aparte de ver el head también el tail"
      ],
      "execution_count": null,
      "outputs": []
    },
    {
      "cell_type": "code",
      "metadata": {
        "id": "2Z1qY6PsaBcX"
      },
      "source": [
        "df_data.tail(5) #aquí un problema, me pone al final una columna con puros NaN"
      ],
      "execution_count": null,
      "outputs": []
    },
    {
      "cell_type": "code",
      "metadata": {
        "id": "4vJcEFsBaMNC"
      },
      "source": [
        "df_data=df_data.dropna(how=\"all\") #corrigiendo el problema, eliminando fila donde todo sea NaN"
      ],
      "execution_count": null,
      "outputs": []
    },
    {
      "cell_type": "code",
      "metadata": {
        "id": "rDCgVGjwadvC"
      },
      "source": [
        "len(df_data)"
      ],
      "execution_count": null,
      "outputs": []
    },
    {
      "cell_type": "markdown",
      "metadata": {
        "id": "UBriTtEKEAJ-"
      },
      "source": [
        "### 3.- Preprocesar (lista de listas) ⏮"
      ]
    },
    {
      "cell_type": "code",
      "metadata": {
        "id": "0XYXX7OGEAJ_"
      },
      "source": [
        "records = []\n",
        "for i in range(0, len(df_data)):\n",
        "    records.append([str(df_data.values[i,j]) for j in range(0, len(df_data.columns))])"
      ],
      "execution_count": null,
      "outputs": []
    },
    {
      "cell_type": "markdown",
      "metadata": {
        "id": "eCRetRa4EAKO"
      },
      "source": [
        "### 4.-Definir umbrales 🟠⏮"
      ]
    },
    {
      "cell_type": "code",
      "metadata": {
        "id": "RLOB8aKLEAKP"
      },
      "source": [
        "lon_min = 2 # Número mínimo de productos a considerar en las reglas\n",
        "\n",
        "veces_minimas_aparece_en_lista=2\n",
        "soporte_min = veces_minimas_aparece_en_lista / len(df_data)\n",
        "\n",
        "confianza_min =0.5\n",
        "sustento_min =1.5"
      ],
      "execution_count": null,
      "outputs": []
    },
    {
      "cell_type": "markdown",
      "metadata": {
        "id": "pIM42vX2EAKX"
      },
      "source": [
        "### 5.-Ejecutar algoritmo ⏮"
      ]
    },
    {
      "cell_type": "code",
      "metadata": {
        "id": "4iIUR0gnEAKf"
      },
      "source": [
        "association_rules = apriori(records, min_support=soporte_min, min_confidence=confianza_min, min_lift=sustento_min, min_length=lon_min)\n",
        "association_results = list(association_rules)  #Convertir los resultados a lista para facilidad de visualización"
      ],
      "execution_count": null,
      "outputs": []
    },
    {
      "cell_type": "markdown",
      "metadata": {
        "id": "AC62RiiAEAKn"
      },
      "source": [
        "### 6.- Resultados FINAL!!!  ⏮"
      ]
    },
    {
      "cell_type": "code",
      "metadata": {
        "id": "CZCvnP7KEAKt"
      },
      "source": [
        "# Cuentas de resultados encontrados\n",
        "len(association_results) # Número total de reglas (combinaciones) por el algoritmo"
      ],
      "execution_count": null,
      "outputs": []
    },
    {
      "cell_type": "code",
      "metadata": {
        "id": "J4_ydVwJEAK2"
      },
      "source": [
        "# Visualizar 1 resultado\n",
        "association_results[1]"
      ],
      "execution_count": null,
      "outputs": []
    },
    {
      "cell_type": "code",
      "metadata": {
        "id": "rhB3alnBRu8t"
      },
      "source": [
        "total_compras=len(df_data)\n",
        "print(total_compras)"
      ],
      "execution_count": null,
      "outputs": []
    },
    {
      "cell_type": "markdown",
      "metadata": {
        "id": "pCbHl2f9SW46"
      },
      "source": [
        "#### Visualizar todos los resultados"
      ]
    },
    {
      "cell_type": "code",
      "metadata": {
        "id": "ScW-Z4zvR-1H"
      },
      "source": [
        "# Visualizar todos los resultados\n",
        "contador=1\n",
        "for item in association_results:\n",
        "\n",
        "    pair = item[0]\n",
        "    items = [x for x in pair]\n",
        "    print(contador)\n",
        "    print(\"Regla: \" + items[0] + \" -> \" + items[1])\n",
        "    print(\"Soporte: \" + str(item[1]*100))\n",
        "    print(\"Confianza: \" + str(item[2][0][2]*100))\n",
        "    print(\"Sustento: \" + str(item[2][0][3]))\n",
        "    print(\"=====================================\")\n",
        "    contador=contador+1"
      ],
      "execution_count": null,
      "outputs": []
    },
    {
      "cell_type": "markdown",
      "metadata": {
        "id": "hClMhY06SZ1M"
      },
      "source": [
        "#### Visualizar todos los resultados (con comentarios)"
      ]
    },
    {
      "cell_type": "code",
      "metadata": {
        "id": "S3RR-88rEALA"
      },
      "source": [
        "# Visualizar todos los resultados\n",
        "contador=1\n",
        "for item in association_results:\n",
        "\n",
        "    pair = item[0]\n",
        "    items = [x for x in pair]\n",
        "    print(\"Regla: \" + items[0] + \" -> \" + items[1])\n",
        "\n",
        "    #second index of the inner list\n",
        "    print(contador)\n",
        "    print(\"  Total de compras: \" + str(total_compras))\n",
        "    print(\"  Veces que aparece la combinación: \" + str(item[1]*total_compras))\n",
        "    print(\"  Soporte (% apariciones): \" + str(item[1]*100))\n",
        "    print(\"  Confianza (de 100 veces que se compra A, el producto B se compra): \" + str(item[2][0][2]*100))\n",
        "    print(\"  Sustento (mayor a 1 -> no es casualidad): \" + str(item[2][0][3]))\n",
        "    print(\"==========================================================\")\n",
        "    print(\"==========================================================\")\n",
        "    contador=contador+1"
      ],
      "execution_count": null,
      "outputs": []
    },
    {
      "cell_type": "code",
      "metadata": {
        "id": "EYnbf_arEALH"
      },
      "source": [],
      "execution_count": null,
      "outputs": []
    },
    {
      "cell_type": "code",
      "metadata": {
        "id": "ZEZxq7S5EALS"
      },
      "source": [],
      "execution_count": null,
      "outputs": []
    }
  ]
}